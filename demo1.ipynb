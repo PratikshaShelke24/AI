{
  "nbformat": 4,
  "nbformat_minor": 0,
  "metadata": {
    "colab": {
      "provenance": [],
      "authorship_tag": "ABX9TyPB7Iw8iTEGdXCCw09DIyVZ",
      "include_colab_link": true
    },
    "kernelspec": {
      "name": "python3",
      "display_name": "Python 3"
    },
    "language_info": {
      "name": "python"
    }
  },
  "cells": [
    {
      "cell_type": "markdown",
      "metadata": {
        "id": "view-in-github",
        "colab_type": "text"
      },
      "source": [
        "<a href=\"https://colab.research.google.com/github/PratikshaShelke24/AI/blob/main/demo1.ipynb\" target=\"_parent\"><img src=\"https://colab.research.google.com/assets/colab-badge.svg\" alt=\"Open In Colab\"/></a>"
      ]
    },
    {
      "cell_type": "code",
      "execution_count": null,
      "metadata": {
        "id": "rAeBghA6fanC"
      },
      "outputs": [],
      "source": [
        "\t#NumPy: Arrays, matrix operations."
      ]
    },
    {
      "cell_type": "code",
      "source": [
        "#timeit functino is used to know the how much time is requird for program execution\n",
        "%timeit [j**4 for j in range(1,9)]"
      ],
      "metadata": {
        "id": "J99QgthKfnV7",
        "colab": {
          "base_uri": "https://localhost:8080/"
        },
        "outputId": "827e0cf7-0854-4ca7-9164-054bff2cfe1f"
      },
      "execution_count": 1,
      "outputs": [
        {
          "output_type": "stream",
          "name": "stdout",
          "text": [
            "6.15 µs ± 2.14 µs per loop (mean ± std. dev. of 7 runs, 100000 loops each)\n"
          ]
        }
      ]
    },
    {
      "cell_type": "code",
      "source": [
        "import numpy as np #import numpy librery"
      ],
      "metadata": {
        "id": "h7aZHTlvfndH"
      },
      "execution_count": 2,
      "outputs": []
    },
    {
      "cell_type": "code",
      "source": [
        "#create array in numpy\n",
        "a=np.array([1,2,3,4,4,5,5,6])\n",
        "print(a)\n",
        "print(type(a))\n"
      ],
      "metadata": {
        "colab": {
          "base_uri": "https://localhost:8080/"
        },
        "id": "eIxjaZvW3tDr",
        "outputId": "6e80c7a9-f6c2-4e7e-f366-23c6b9e7d4d1"
      },
      "execution_count": 6,
      "outputs": [
        {
          "output_type": "stream",
          "name": "stdout",
          "text": [
            "[1 2 3 4 4 5 5 6]\n",
            "<class 'numpy.ndarray'>\n"
          ]
        }
      ]
    },
    {
      "cell_type": "code",
      "source": [
        "#types of array\n",
        "x=[1,2,4,5,6,7,8,9] #declere array\n",
        "y=np.array(x) #collect data here\n",
        "print(y)"
      ],
      "metadata": {
        "colab": {
          "base_uri": "https://localhost:8080/"
        },
        "id": "KRT2gBK-3tHm",
        "outputId": "29cbcdd6-74e3-4aa0-d08c-cea0641542f1"
      },
      "execution_count": 7,
      "outputs": [
        {
          "output_type": "stream",
          "name": "stdout",
          "text": [
            "[1 2 4 5 6 7 8 9]\n"
          ]
        }
      ]
    },
    {
      "cell_type": "code",
      "source": [],
      "metadata": {
        "id": "fjVb8w6l3tLO"
      },
      "execution_count": null,
      "outputs": []
    },
    {
      "cell_type": "code",
      "source": [],
      "metadata": {
        "id": "_nfeoKdB3tOI"
      },
      "execution_count": null,
      "outputs": []
    },
    {
      "cell_type": "code",
      "source": [],
      "metadata": {
        "id": "J-1EDZ5I3tRO"
      },
      "execution_count": null,
      "outputs": []
    },
    {
      "cell_type": "code",
      "source": [],
      "metadata": {
        "id": "aeh8QQ_3fnhz"
      },
      "execution_count": null,
      "outputs": []
    }
  ]
}