{
  "nbformat": 4,
  "nbformat_minor": 0,
  "metadata": {
    "colab": {
      "provenance": [],
      "authorship_tag": "ABX9TyMTlqIPjaZdQkn+/g1JDtG8",
      "include_colab_link": true
    },
    "kernelspec": {
      "name": "python3",
      "display_name": "Python 3"
    },
    "language_info": {
      "name": "python"
    }
  },
  "cells": [
    {
      "cell_type": "markdown",
      "metadata": {
        "id": "view-in-github",
        "colab_type": "text"
      },
      "source": [
        "<a href=\"https://colab.research.google.com/github/PratikshaShelke24/AI/blob/main/demo1.ipynb\" target=\"_parent\"><img src=\"https://colab.research.google.com/assets/colab-badge.svg\" alt=\"Open In Colab\"/></a>"
      ]
    },
    {
      "cell_type": "code",
      "execution_count": null,
      "metadata": {
        "id": "rAeBghA6fanC"
      },
      "outputs": [],
      "source": [
        "\t#NumPy: Arrays, matrix operations."
      ]
    },
    {
      "cell_type": "code",
      "source": [
        "#timeit functino is used to know the how much time is requird for program execution\n",
        "%timeit [j**4 for j in range(1,9)]"
      ],
      "metadata": {
        "id": "J99QgthKfnV7",
        "colab": {
          "base_uri": "https://localhost:8080/"
        },
        "outputId": "827e0cf7-0854-4ca7-9164-054bff2cfe1f"
      },
      "execution_count": 1,
      "outputs": [
        {
          "output_type": "stream",
          "name": "stdout",
          "text": [
            "6.15 µs ± 2.14 µs per loop (mean ± std. dev. of 7 runs, 100000 loops each)\n"
          ]
        }
      ]
    },
    {
      "cell_type": "code",
      "source": [
        "import numpy as np #import numpy librery"
      ],
      "metadata": {
        "id": "h7aZHTlvfndH"
      },
      "execution_count": 2,
      "outputs": []
    },
    {
      "cell_type": "code",
      "source": [
        "#create array in numpy\n",
        "a=np.array([1,2,3,4,4,5,5,6])\n",
        "print(a)\n",
        "print(type(a))\n"
      ],
      "metadata": {
        "colab": {
          "base_uri": "https://localhost:8080/"
        },
        "id": "eIxjaZvW3tDr",
        "outputId": "6e80c7a9-f6c2-4e7e-f366-23c6b9e7d4d1"
      },
      "execution_count": 6,
      "outputs": [
        {
          "output_type": "stream",
          "name": "stdout",
          "text": [
            "[1 2 3 4 4 5 5 6]\n",
            "<class 'numpy.ndarray'>\n"
          ]
        }
      ]
    },
    {
      "cell_type": "code",
      "source": [
        "#types of array\n",
        "x=[1,2,4,5,6,7,8,9] #declere array\n",
        "y=np.array(x) #collect data here\n",
        "print(y)\n",
        "print(type(y))"
      ],
      "metadata": {
        "colab": {
          "base_uri": "https://localhost:8080/"
        },
        "id": "KRT2gBK-3tHm",
        "outputId": "4762f95a-7368-41a2-d83c-b09c6f5e3099"
      },
      "execution_count": 8,
      "outputs": [
        {
          "output_type": "stream",
          "name": "stdout",
          "text": [
            "[1 2 4 5 6 7 8 9]\n",
            "<class 'numpy.ndarray'>\n"
          ]
        }
      ]
    },
    {
      "cell_type": "code",
      "source": [
        "#create list using numpy\n",
        "list1=[]\n",
        "for i in range(1,20):\n",
        "  int_list1=int(input(\"enter the value:\"))\n",
        "  list1.append(int_list1)\n",
        "  #print(\"the list value\",list1)\n",
        "  print(np.array(list1))\n"
      ],
      "metadata": {
        "colab": {
          "base_uri": "https://localhost:8080/"
        },
        "id": "fjVb8w6l3tLO",
        "outputId": "7bcf905a-d230-46af-cb42-b2f67f533118"
      },
      "execution_count": null,
      "outputs": [
        {
          "metadata": {
            "tags": null
          },
          "name": "stdout",
          "output_type": "stream",
          "text": [
            "[15]\n",
            "[15 15]\n"
          ]
        }
      ]
    },
    {
      "cell_type": "code",
      "source": [],
      "metadata": {
        "id": "_nfeoKdB3tOI"
      },
      "execution_count": null,
      "outputs": []
    },
    {
      "cell_type": "code",
      "source": [],
      "metadata": {
        "id": "J-1EDZ5I3tRO"
      },
      "execution_count": null,
      "outputs": []
    },
    {
      "cell_type": "code",
      "source": [],
      "metadata": {
        "id": "aeh8QQ_3fnhz"
      },
      "execution_count": null,
      "outputs": []
    }
  ]
}