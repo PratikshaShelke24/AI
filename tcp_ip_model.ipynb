{
  "nbformat": 4,
  "nbformat_minor": 0,
  "metadata": {
    "colab": {
      "provenance": [],
      "authorship_tag": "ABX9TyN966ImZiXdhPMsWN3RXk1F",
      "include_colab_link": true
    },
    "kernelspec": {
      "name": "python3",
      "display_name": "Python 3"
    },
    "language_info": {
      "name": "python"
    }
  },
  "cells": [
    {
      "cell_type": "markdown",
      "metadata": {
        "id": "view-in-github",
        "colab_type": "text"
      },
      "source": [
        "<a href=\"https://colab.research.google.com/github/PratikshaShelke24/AI/blob/main/tcp_ip_model.ipynb\" target=\"_parent\"><img src=\"https://colab.research.google.com/assets/colab-badge.svg\" alt=\"Open In Colab\"/></a>"
      ]
    },
    {
      "cell_type": "code",
      "source": [
        "import socket\n",
        "import threading\n",
        "\n",
        "# Function to handle client connections\n",
        "def handle_client(client_socket):\n",
        "    request = client_socket.recv(1024)\n",
        "    print(f\"Received: {request.decode('utf-8')}\")\n",
        "    client_socket.send(\"Hello from server\".encode())\n",
        "    client_socket.close()\n",
        "\n",
        "# TCP Server\n",
        "def start_server():\n",
        "    server = socket.socket(socket.AF_INET, socket.SOCK_STREAM)\n",
        "    server.bind(('0.0.0.0', 9999))  # Listen on all interfaces, port 9999\n",
        "    server.listen(5)\n",
        "    print(\"Server listening on port 9999\")\n",
        "\n",
        "    while True:\n",
        "        client_socket, addr = server.accept()\n",
        "        print(f\"Connection from {addr}\")\n",
        "        client_handler = threading.Thread(target=handle_client, args=(client_socket,))\n",
        "        client_handler.start()\n",
        "\n",
        "# Start the server\n",
        "start_server()\n"
      ],
      "metadata": {
        "colab": {
          "base_uri": "https://localhost:8080/"
        },
        "id": "ekMLRlBOIRVJ",
        "outputId": "6f0091d0-a70b-4caf-d71b-d6784e5a1b9f"
      },
      "execution_count": null,
      "outputs": [
        {
          "output_type": "stream",
          "name": "stdout",
          "text": [
            "Server listening on port 9999\n"
          ]
        }
      ]
    },
    {
      "cell_type": "code",
      "source": [
        "import socket\n",
        "\n",
        "def start_client():\n",
        "    client = socket.socket(socket.AF_INET, socket.SOCK_STREAM)\n",
        "    client.connect(('127.0.0.1', 9999))  # Connect to the server running locally\n",
        "    client.send(\"Hello from client\".encode())\n",
        "    response = client.recv(1024)\n",
        "    print(\"Received from server:\", response.decode())\n",
        "    client.close()\n",
        "\n",
        "# Start the client\n",
        "start_client()\n"
      ],
      "metadata": {
        "id": "CQC7k9msIRYO"
      },
      "execution_count": null,
      "outputs": []
    },
    {
      "cell_type": "code",
      "source": [
        "import socket\n",
        "\n",
        "def ping_host(host, port=80):\n",
        "    try:\n",
        "        # Attempt to connect to the host on the specified port\n",
        "        socket.create_connection((host, port), timeout=2)\n",
        "        print(f\"Host {host} is reachable\")\n",
        "    except socket.timeout:\n",
        "        print(f\"Host {host} is not reachable (timeout)\")\n",
        "    except socket.error as e:\n",
        "        print(f\"Error connecting to {host}: {e}\")\n",
        "\n",
        "# Example usage\n",
        "ping_host(\"www.google.com\")  # Ping a website\n"
      ],
      "metadata": {
        "id": "P5X4cbeUIm1Z"
      },
      "execution_count": null,
      "outputs": []
    },
    {
      "cell_type": "code",
      "source": [
        "import requests\n",
        "\n",
        "response = requests.get(\"http://www.google.com\")\n",
        "print(\"Status Code:\", response.status_code)\n",
        "print(\"Response Text:\", response.text[:500])  # Display first 500 characters of the HTML response\n"
      ],
      "metadata": {
        "id": "gL8TL4XKIm4m"
      },
      "execution_count": null,
      "outputs": []
    },
    {
      "cell_type": "code",
      "source": [
        "import socket\n",
        "import json\n",
        "\n",
        "def start_server():\n",
        "    server = socket.socket(socket.AF_INET, socket.SOCK_STREAM)\n",
        "    server.bind(('0.0.0.0', 9999))\n",
        "    server.listen(5)\n",
        "    print(\"Server listening on port 9999\")\n",
        "\n",
        "    while True:\n",
        "        client_socket, addr = server.accept()\n",
        "        print(f\"Connection from {addr}\")\n",
        "        data = client_socket.recv(1024)\n",
        "        json_data = json.loads(data.decode())  # Deserialize JSON data\n",
        "        print(f\"Received JSON data: {json_data}\")\n",
        "        client_socket.close()\n",
        "\n",
        "start_server()\n"
      ],
      "metadata": {
        "id": "SujtiOOfIm81"
      },
      "execution_count": null,
      "outputs": []
    },
    {
      "cell_type": "code",
      "source": [],
      "metadata": {
        "id": "3FWs1ZJlIRbT"
      },
      "execution_count": null,
      "outputs": []
    },
    {
      "cell_type": "code",
      "source": [],
      "metadata": {
        "id": "I_UsIiOeIReJ"
      },
      "execution_count": null,
      "outputs": []
    }
  ]
}