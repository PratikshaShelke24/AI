{
  "nbformat": 4,
  "nbformat_minor": 0,
  "metadata": {
    "colab": {
      "provenance": [],
      "authorship_tag": "ABX9TyOmmj7rv/GEr+yQn7+p5B5D",
      "include_colab_link": true
    },
    "kernelspec": {
      "name": "python3",
      "display_name": "Python 3"
    },
    "language_info": {
      "name": "python"
    }
  },
  "cells": [
    {
      "cell_type": "markdown",
      "metadata": {
        "id": "view-in-github",
        "colab_type": "text"
      },
      "source": [
        "<a href=\"https://colab.research.google.com/github/PratikshaShelke24/AI/blob/main/unsupvervisedleraning.ipynb\" target=\"_parent\"><img src=\"https://colab.research.google.com/assets/colab-badge.svg\" alt=\"Open In Colab\"/></a>"
      ]
    },
    {
      "cell_type": "code",
      "source": [
        "#K-Means clustering implementation"
      ],
      "metadata": {
        "id": "DCQy6UdOx_l-"
      },
      "execution_count": null,
      "outputs": []
    },
    {
      "cell_type": "code",
      "source": [
        "import numpy as np\n",
        "import matplotlib.pyplot as plt\n",
        "from scipy.spatial.distance import cdist\n",
        "\n",
        "# Generate dataset\n",
        "np.random.seed(42)\n",
        "X, _ = make_blobs(n_samples=300, centers=4, cluster_std=0.60)\n",
        "\n",
        "# Number of clusters\n",
        "k = 4\n",
        "\n",
        "# Randomly initialize centroids\n",
        "centroids = X[np.random.choice(X.shape[0], k, replace=False)]\n",
        "\n",
        "# Function to assign clusters\n",
        "def assign_clusters(X, centroids):\n",
        "    distances = cdist(X, centroids, 'euclidean')\n",
        "    return np.argmin(distances, axis=1)\n",
        "\n",
        "# Function to update centroids\n",
        "def update_centroids(X, labels, k):\n",
        "    return np.array([X[labels == i].mean(axis=0) for i in range(k)])\n",
        "\n",
        "# Iterate until convergence\n",
        "max_iters = 100\n",
        "for i in range(max_iters):\n",
        "    labels = assign_clusters(X, centroids)\n",
        "    new_centroids = update_centroids(X, labels, k)\n",
        "    if np.all(centroids == new_centroids):  # Convergence check\n",
        "        break\n",
        "    centroids = new_centroids\n",
        "\n",
        "# Plot results\n",
        "plt.scatter(X[:, 0], X[:, 1], c=labels, cmap='viridis', s=50, alpha=0.6)\n",
        "plt.scatter(centroids[:, 0], centroids[:, 1], s=200, c='red', marker='X', label='Centroids')\n",
        "plt.legend()\n",
        "plt.title(\"K-Means Clustering (Custom Implementation)\")\n",
        "plt.show()\n"
      ],
      "metadata": {
        "id": "79EoquB8yuUO"
      },
      "execution_count": null,
      "outputs": []
    },
    {
      "cell_type": "code",
      "source": [],
      "metadata": {
        "id": "fWdB5_8JyuXz"
      },
      "execution_count": null,
      "outputs": []
    },
    {
      "cell_type": "code",
      "source": [],
      "metadata": {
        "id": "VUH3MqSUyubr"
      },
      "execution_count": null,
      "outputs": []
    },
    {
      "cell_type": "code",
      "source": [],
      "metadata": {
        "id": "ut-YlLifyuji"
      },
      "execution_count": null,
      "outputs": []
    }
  ]
}